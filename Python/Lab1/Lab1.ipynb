{
 "cells": [
  {
   "cell_type": "code",
   "execution_count": 11,
   "id": "57ef162a",
   "metadata": {},
   "outputs": [
    {
     "name": "stdout",
     "output_type": "stream",
     "text": [
      "Name: Khaled, Age: 22, Hobby: Reading\n"
     ]
    }
   ],
   "source": [
    "Name = 'Khaled'\n",
    "Age = '22'\n",
    "Hobby = 'Reading'\n",
    "print(f\"Name: {Name}, Age: {Age}, Hobby: {Hobby}\")"
   ]
  },
  {
   "cell_type": "code",
   "execution_count": 10,
   "id": "a7607641",
   "metadata": {},
   "outputs": [
    {
     "name": "stdout",
     "output_type": "stream",
     "text": [
      "sum: 7, diff: 3, product: 10,quotient: 2.50 \n"
     ]
    }
   ],
   "source": [
    "def cal(x,y):\n",
    "    print(f\"sum: {x+y}, diff: {x-y}, product: {x*y},quotient: {x/y:.2f} \")\n",
    "    \n",
    "cal(5,2)"
   ]
  },
  {
   "cell_type": "code",
   "execution_count": 15,
   "id": "9d4a4c9e",
   "metadata": {},
   "outputs": [
    {
     "name": "stdout",
     "output_type": "stream",
     "text": [
      "input stringsda\n",
      "Name: SDA, Age: sda, Hobby: ads\n"
     ]
    }
   ],
   "source": [
    "x= input('input string:  ')\n",
    "def reverse_str(s):\n",
    "    return s[::-1]\n",
    "print(f\"Name: {x.upper()}, Age: {x.lower()}, Hobby: {reverse_str(x)}\")"
   ]
  },
  {
   "cell_type": "code",
   "execution_count": 32,
   "id": "78741927",
   "metadata": {},
   "outputs": [
    {
     "name": "stdout",
     "output_type": "stream",
     "text": [
      "Input number: 1\n",
      "odd:1\n",
      "Positive:1\n",
      "Div by 5: 0.2\n"
     ]
    }
   ],
   "source": [
    "def check_Even_odd(x):\n",
    "    if x%2 == 0:\n",
    "        print(f\"Even:{x}\")\n",
    "    else:\n",
    "        print(f\"odd:{x}\")\n",
    "    if x >0 :\n",
    "        print(f\"Positive:{x}\")\n",
    "    elif x <0 :\n",
    "        print(f\"negative:{x}\")\n",
    "    else  :\n",
    "        print(f\"zero:{x}\")   \n",
    "        \n",
    "    print(f\"Div by 5: {x/5}\")\n",
    "    \n",
    "x = int(input(f\"Input number: \"))   \n",
    "check_Even_odd(x)"
   ]
  },
  {
   "cell_type": "code",
   "execution_count": 142,
   "id": "ca9d3169",
   "metadata": {},
   "outputs": [],
   "source": [
    "def list_num(x):\n",
    "    String_list =x.split(',')\n",
    "    \n",
    "    Sum =0\n",
    "    print(String_list)\n",
    "    \n",
    "    for i in range(len(String_list)):\n",
    "        String_list[i] = int(String_list[i]) \n",
    "    for i in range(len(String_list)):\n",
    "        Sum += String_list[i]      \n",
    "        \n",
    "    String_list.sort()  \n",
    "    print(f\"Max :{String_list[-1]}\")\n",
    "    print(f\"Min :{String_list[0]}\")\n",
    "    print(f\"Sum :{Sum}\")\n",
    "    print(f\"Avg :{Sum/len(String_list)}\")\n",
    "    return String_list\n",
    "\n",
    "x= input('input your num')\n"
   ]
  },
  {
   "cell_type": "code",
   "execution_count": 190,
   "id": "d65b9540",
   "metadata": {},
   "outputs": [],
   "source": [
    "def Persondic():\n",
    "    i =0\n",
    "    Data ={}\n",
    "    while i !=3:\n",
    "        name = input('name: ')\n",
    "        age =  int(input('age: '))\n",
    "        Data[name]=age\n",
    "        i+=1\n",
    "    print(Data)\n",
    "    \n",
    "    Data = sorted(Data.items(), key=lambda item: item[1]) ##\n",
    "    print(Data[0])\n",
    "    print(Data[-1])\n",
    "    \n",
    "    print(Data)\n",
    "    \n",
    "    \n",
    "        "
   ]
  },
  {
   "cell_type": "code",
   "execution_count": 239,
   "id": "ed5adbcf",
   "metadata": {},
   "outputs": [
    {
     "name": "stdout",
     "output_type": "stream",
     "text": [
      "Length =  5\n",
      "Width =  6\n",
      "Area= 30.0 \n",
      "Perimeter= 22.0\n"
     ]
    }
   ],
   "source": [
    "\n",
    "def calculate_area_and_perimeter(L, W):\n",
    "    area = L * W  \n",
    "    perimeter = 2 * (L + W)  \n",
    "    return area, perimeter\n",
    "\n",
    "\n",
    "def display_results(length, width):\n",
    "    area,  perimeter = calculate_area_and_perimeter(length, width)\n",
    "\n",
    "    print(f\"Area= {area} \")\n",
    "    print(f\"Perimeter= {perimeter}\")\n",
    "\n",
    "length = float(input(\"Length =  \"))\n",
    "width = float(input(\"Width =  \"))\n",
    "display_results(length, width)\n"
   ]
  },
  {
   "cell_type": "code",
   "execution_count": 245,
   "id": "b6cbac65",
   "metadata": {},
   "outputs": [
    {
     "name": "stdout",
     "output_type": "stream",
     "text": [
      "['the', 'quick', 'brown', 'fox', 'jumps', 'over', 'the', 'lazy', 'dog', 'the', 'dog', 'barks']\n",
      "{'the': 3, 'quick': 1, 'brown': 1, 'fox': 1, 'jumps': 1, 'over': 1, 'lazy': 1, 'dog': 2, 'barks': 1}\n"
     ]
    }
   ],
   "source": [
    "substance = 'the quick brown fox jumps over the lazy dog the dog barks'\n",
    "def Count_Words(substance):\n",
    "    dic ={}\n",
    "    \n",
    "    List_substance = substance.split(' ')\n",
    "    \n",
    "    for i in List_substance:\n",
    "        dic[i] = dic.get(i, 0) \n",
    "        if i in List_substance:\n",
    "             dic[i] +=1\n",
    "        \n",
    "    print(List_substance)    \n",
    "    print(dic)\n",
    "Count_Words(substance)"
   ]
  },
  {
   "cell_type": "code",
   "execution_count": 251,
   "id": "351ceb53",
   "metadata": {},
   "outputs": [],
   "source": [
    "def roman_to_int():\n",
    "    Number = input('roman num : ')\n",
    "    sum_values = 0\n",
    "    roman_dict = {\n",
    "        'I': 1, 'V': 5, 'X': 10, 'L': 50, 'C': 100, 'D': 500, 'M': 1000\n",
    "    }\n",
    "\n",
    "    for i in range(len(Number) - 1):  \n",
    "        value = roman_dict[Number[i]]\n",
    "\n",
    "        if value < roman_dict[Number[i + 1]]:\n",
    "            sum_values -= value\n",
    "        else:\n",
    "            sum_values += value\n",
    "    sum_values += roman_dict[Number[-1]]\n",
    "\n",
    "    return sum_values\n",
    "\n"
   ]
  },
  {
   "cell_type": "code",
   "execution_count": 260,
   "id": "f8e35f5c",
   "metadata": {},
   "outputs": [
    {
     "name": "stdout",
     "output_type": "stream",
     "text": [
      "roman num : I\n"
     ]
    },
    {
     "data": {
      "text/plain": [
       "1"
      ]
     },
     "execution_count": 260,
     "metadata": {},
     "output_type": "execute_result"
    }
   ],
   "source": [
    "roman_to_int()\n"
   ]
  },
  {
   "cell_type": "code",
   "execution_count": null,
   "id": "5f262701",
   "metadata": {},
   "outputs": [],
   "source": []
  }
 ],
 "metadata": {
  "kernelspec": {
   "display_name": "Python 3 (ipykernel)",
   "language": "python",
   "name": "python3"
  },
  "language_info": {
   "codemirror_mode": {
    "name": "ipython",
    "version": 3
   },
   "file_extension": ".py",
   "mimetype": "text/x-python",
   "name": "python",
   "nbconvert_exporter": "python",
   "pygments_lexer": "ipython3",
   "version": "3.11.4"
  }
 },
 "nbformat": 4,
 "nbformat_minor": 5
}
